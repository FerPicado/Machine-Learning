{
 "cells": [
  {
   "cell_type": "code",
   "execution_count": null,
   "id": "02debc78",
   "metadata": {},
   "outputs": [],
   "source": [
    "\n",
    "import pandas as pd\n",
    "import numpy as no\n",
    "import matplotlib.pyplot as plt\n",
    "import sklearn\n",
    "\n"
   ]
  },
  {
   "cell_type": "code",
   "execution_count": 6,
   "id": "c7e1e789",
   "metadata": {},
   "outputs": [
    {
     "name": "stdout",
     "output_type": "stream",
     "text": [
      "Hello Jupyter!\n",
      "Machine Learning siempre por encima\n"
     ]
    }
   ],
   "source": [
    "print(\"Hello Jupyter!\")\n",
    "2**20\n",
    "mlDev = \"Machine Learning Engineer\";\n",
    "dataSci = \"Data Enginner\";\n",
    "\n",
    "print(\"Machine Learning siempre por encima\") if len(mlDev) > len(dataSci) else print(\"Data Sciense es mejor!\")"
   ]
  },
  {
   "cell_type": "code",
   "execution_count": null,
   "id": "e92f90af",
   "metadata": {},
   "outputs": [],
   "source": []
  }
 ],
 "metadata": {
  "kernelspec": {
   "display_name": "Python 3 (ipykernel)",
   "language": "python",
   "name": "python3"
  },
  "language_info": {
   "codemirror_mode": {
    "name": "ipython",
    "version": 3
   },
   "file_extension": ".py",
   "mimetype": "text/x-python",
   "name": "python",
   "nbconvert_exporter": "python",
   "pygments_lexer": "ipython3",
   "version": "3.10.4"
  }
 },
 "nbformat": 4,
 "nbformat_minor": 5
}
